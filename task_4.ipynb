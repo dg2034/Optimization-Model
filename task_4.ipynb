{
 "cells": [
  {
   "cell_type": "markdown",
   "id": "c74cbd91",
   "metadata": {},
   "source": [
    "## Task 4\n",
    "\n",
    "Optimization Model"
   ]
  },
  {
   "cell_type": "markdown",
   "id": "86cb02a6",
   "metadata": {},
   "source": [
    "#### Step-1\n",
    "\n",
    "Importing Libraries and defining decision variables."
   ]
  },
  {
   "cell_type": "code",
   "execution_count": 1,
   "id": "3a99923e",
   "metadata": {},
   "outputs": [],
   "source": [
    "from pulp import LpMaximize, LpProblem, LpVariable\n",
    "import pandas as pd\n",
    "import matplotlib.pyplot as plt\n",
    "\n",
    "# Create the LP model\n",
    "model = LpProblem(name=\"warehouse-optimization\", sense=LpMaximize)\n",
    "\n",
    "# Define decision variables\n",
    "laptops = LpVariable(name=\"Laptops\", lowBound=1, cat=\"Integer\")    #x\n",
    "headphones = LpVariable(name=\"Headphones\", lowBound=1, cat=\"Integer\")   #y\n",
    "keyboards = LpVariable(name=\"Keyboards\", lowBound=1, cat=\"Integer\")    #z"
   ]
  },
  {
   "cell_type": "markdown",
   "id": "195e4a47",
   "metadata": {},
   "source": [
    "#### Step-2\n",
    "\n",
    "Add the Objective Function (Maximize Profit)"
   ]
  },
  {
   "cell_type": "code",
   "execution_count": 2,
   "id": "f7feffe8",
   "metadata": {},
   "outputs": [],
   "source": [
    "# Define the objective function (maximize profit)\n",
    "model += (\n",
    "    4000 * laptops + 1500 * headphones + 2000 * keyboards,\n",
    "    \"Total_Profit\"\n",
    ")"
   ]
  },
  {
   "cell_type": "markdown",
   "id": "ac3da8e1",
   "metadata": {},
   "source": [
    "#### Step-3\n",
    "\n",
    "Add Constraints"
   ]
  },
  {
   "cell_type": "code",
   "execution_count": 3,
   "id": "bb0ac629",
   "metadata": {},
   "outputs": [],
   "source": [
    "# Add constraints\n",
    "\n",
    "# Total space constraint\n",
    "model += (3 * laptops + 1 * headphones + 2 * keyboards <= 100, \"Warehouse_Space\")\n",
    "\n",
    "# Maximum demand constraints\n",
    "model += (laptops <= 20, \"Laptop_Demand\")\n",
    "model += (headphones <= 50, \"Headphone_Demand\")\n",
    "model += (keyboards <= 30, \"Keyboard_Demand\")"
   ]
  },
  {
   "cell_type": "markdown",
   "id": "d27ab2ef",
   "metadata": {},
   "source": [
    "#### Step-4\n",
    "\n",
    "Solve the Model and Print the Results."
   ]
  },
  {
   "cell_type": "code",
   "execution_count": 4,
   "id": "996ec8a2",
   "metadata": {},
   "outputs": [
    {
     "name": "stdout",
     "output_type": "stream",
     "text": [
      "Status: 1\n",
      "Optimal number of Laptops to store: 16.0\n",
      "Optimal number of Headphones to store: 50.0\n",
      "Optimal number of Keyboards to store: 1.0\n",
      "Maximum Profit: ₹141000.0\n"
     ]
    }
   ],
   "source": [
    "# Solve the model\n",
    "model.solve()\n",
    "\n",
    "# Print the results\n",
    "print(f\"Status: {model.status}\")\n",
    "\n",
    "print(f\"Optimal number of Laptops to store: {laptops.value()}\")\n",
    "print(f\"Optimal number of Headphones to store: {headphones.value()}\")\n",
    "print(f\"Optimal number of Keyboards to store: {keyboards.value()}\")\n",
    "\n",
    "print(f\"Maximum Profit: ₹{model.objective.value()}\")"
   ]
  },
  {
   "cell_type": "markdown",
   "id": "087f7894",
   "metadata": {},
   "source": [
    "#### Step-5\n",
    "\n",
    "Product Summary Table"
   ]
  },
  {
   "cell_type": "code",
   "execution_count": 5,
   "id": "51402af5",
   "metadata": {},
   "outputs": [
    {
     "data": {
      "text/html": [
       "<div>\n",
       "<style scoped>\n",
       "    .dataframe tbody tr th:only-of-type {\n",
       "        vertical-align: middle;\n",
       "    }\n",
       "\n",
       "    .dataframe tbody tr th {\n",
       "        vertical-align: top;\n",
       "    }\n",
       "\n",
       "    .dataframe thead th {\n",
       "        text-align: right;\n",
       "    }\n",
       "</style>\n",
       "<table border=\"1\" class=\"dataframe\">\n",
       "  <thead>\n",
       "    <tr style=\"text-align: right;\">\n",
       "      <th></th>\n",
       "      <th>Product</th>\n",
       "      <th>Space Required (m³)</th>\n",
       "      <th>Profit per unit (₹)</th>\n",
       "      <th>Maximum Demand (units)</th>\n",
       "    </tr>\n",
       "  </thead>\n",
       "  <tbody>\n",
       "    <tr>\n",
       "      <th>0</th>\n",
       "      <td>Laptops</td>\n",
       "      <td>3</td>\n",
       "      <td>4000</td>\n",
       "      <td>20</td>\n",
       "    </tr>\n",
       "    <tr>\n",
       "      <th>1</th>\n",
       "      <td>Headphones</td>\n",
       "      <td>1</td>\n",
       "      <td>1500</td>\n",
       "      <td>50</td>\n",
       "    </tr>\n",
       "    <tr>\n",
       "      <th>2</th>\n",
       "      <td>Keyboards</td>\n",
       "      <td>2</td>\n",
       "      <td>2000</td>\n",
       "      <td>30</td>\n",
       "    </tr>\n",
       "  </tbody>\n",
       "</table>\n",
       "</div>"
      ],
      "text/plain": [
       "      Product  Space Required (m³)  Profit per unit (₹)  \\\n",
       "0     Laptops                    3                 4000   \n",
       "1  Headphones                    1                 1500   \n",
       "2   Keyboards                    2                 2000   \n",
       "\n",
       "   Maximum Demand (units)  \n",
       "0                      20  \n",
       "1                      50  \n",
       "2                      30  "
      ]
     },
     "execution_count": 5,
     "metadata": {},
     "output_type": "execute_result"
    }
   ],
   "source": [
    "# Define product data\n",
    "product_data = pd.DataFrame({\n",
    "    \"Product\": [\"Laptops\", \"Headphones\", \"Keyboards\"],\n",
    "    \"Space Required (m³)\": [3, 1, 2],\n",
    "    \"Profit per unit (₹)\": [4000, 1500, 2000],\n",
    "    \"Maximum Demand (units)\": [20, 50, 30]\n",
    "})\n",
    "\n",
    "product_data"
   ]
  },
  {
   "cell_type": "markdown",
   "id": "892be758",
   "metadata": {},
   "source": [
    "#### Step-6\n",
    "\n",
    "Visualizing the Data."
   ]
  },
  {
   "cell_type": "code",
   "execution_count": 8,
   "id": "240c5ce6",
   "metadata": {},
   "outputs": [
    {
     "data": {
      "image/png": "[encoded data removed]",
      "text/plain": [
       "<Figure size 600x400 with 1 Axes>"
      ]
     },
     "metadata": {},
     "output_type": "display_data"
    }
   ],
   "source": [
    "# Extract solution values\n",
    "products = [\"Laptops\", \"Headphones\", \"Keyboards\"]\n",
    "optimal_units = [\n",
    "    laptops.value(),\n",
    "    headphones.value(),\n",
    "    keyboards.value()\n",
    "]\n",
    "\n",
    "# Plotting\n",
    "plt.figure(figsize=(6, 4))\n",
    "plt.bar(products, optimal_units, color=[\"skyblue\", \"orange\", \"green\"])\n",
    "plt.title(\"Optimal Product Mix for Warehouse\")\n",
    "plt.xlabel(\"Product\")\n",
    "plt.ylabel(\"Units to Store\")\n",
    "plt.grid(axis='y')\n",
    "plt.tight_layout()\n",
    "plt.show()"
   ]
  }
 ],
 "metadata": {
  "kernelspec": {
   "display_name": "venv",
   "language": "python",
   "name": "python3"
  },
  "language_info": {
   "codemirror_mode": {
    "name": "ipython",
    "version": 3
   },
   "file_extension": ".py",
   "mimetype": "text/x-python",
   "name": "python",
   "nbconvert_exporter": "python",
   "pygments_lexer": "ipython3",
   "version": "3.12.0"
  }
 },
 "nbformat": 4,
 "nbformat_minor": 5
}
